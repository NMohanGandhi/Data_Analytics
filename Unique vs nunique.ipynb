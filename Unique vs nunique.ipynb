{
 "cells": [
  {
   "cell_type": "code",
   "execution_count": 1,
   "id": "20424010-381e-4315-8fd3-74deb0f65319",
   "metadata": {},
   "outputs": [],
   "source": [
    "import pandas as pd"
   ]
  },
  {
   "cell_type": "code",
   "execution_count": 2,
   "id": "369ec5ff-f199-41fe-a2b3-71937945b90f",
   "metadata": {},
   "outputs": [],
   "source": [
    "# Creating a dataframe\n",
    "df = pd.DataFrame({'Sports': ['Football', 'Cricket', 'Baseball', 'Basketball',\n",
    "                'Tennis', 'Table-tennis', 'Archery', 'Swimming', 'Boxing'], \n",
    "                'Player': [\"Messi\", \"Afridi\", \"Chad\", \"Johnny\", \"Federer\",\n",
    "                 \"Yong\", \"Mark\", \"Phelps\", \"Khan\"],\n",
    "                 'Country': [\"Argentina\", \"Pakistan\", \"England\", \"England\", \"Switzerland\",\n",
    "                 \"China\", \"China\", \"USA\", \"Pakistan\" ],\n",
    "                 'Rank': [1, 9, 7, 12, 1, 2, 11, 1, 1] })"
   ]
  },
  {
   "cell_type": "code",
   "execution_count": 3,
   "id": "5d0c7a59-1954-4af0-b428-f2adc2d29171",
   "metadata": {},
   "outputs": [
    {
     "name": "stdout",
     "output_type": "stream",
     "text": [
      "UniqueCountries : ['Argentina' 'Pakistan' 'England' 'Switzerland' 'China' 'USA']\n"
     ]
    }
   ],
   "source": [
    "# Finding unique countries\n",
    "print(\"UniqueCountries\",':',df[\"Country\"].unique())"
   ]
  },
  {
   "cell_type": "code",
   "execution_count": 4,
   "id": "8c79085a-2124-4727-a467-ef4228224dba",
   "metadata": {},
   "outputs": [
    {
     "name": "stdout",
     "output_type": "stream",
     "text": [
      "nUniqueCountries : 6\n"
     ]
    }
   ],
   "source": [
    "# Finding nunique countries\n",
    "print(\"nUniqueCountries\",':',df[\"Country\"].nunique())"
   ]
  },
  {
   "cell_type": "code",
   "execution_count": 5,
   "id": "cb4de50c-ed01-420c-ab83-c45dd70618fa",
   "metadata": {},
   "outputs": [
    {
     "name": "stdout",
     "output_type": "stream",
     "text": [
      "UniqueRanking : [ 1  9  7 12  2 11]\n"
     ]
    }
   ],
   "source": [
    "# Finding unique rankings\n",
    "print(\"UniqueRanking\",':',df[\"Rank\"].unique())"
   ]
  },
  {
   "cell_type": "code",
   "execution_count": 7,
   "id": "b5b8e9da-632a-4539-a918-b2c0f0481fb1",
   "metadata": {},
   "outputs": [
    {
     "name": "stdout",
     "output_type": "stream",
     "text": [
      "nUniqueRanking : 6\n"
     ]
    }
   ],
   "source": [
    "#Finding nunique rankings\n",
    "print(\"nUniqueRanking\",':',df[\"Rank\"].nunique())"
   ]
  },
  {
   "cell_type": "code",
   "execution_count": null,
   "id": "17bb4c8f-03b3-4743-aa42-00a2d3c6a8b3",
   "metadata": {},
   "outputs": [],
   "source": []
  },
  {
   "cell_type": "code",
   "execution_count": 8,
   "id": "ce1e4d46-60a6-4b1d-8bf6-552751c18a90",
   "metadata": {},
   "outputs": [],
   "source": [
    "import pandas as pd"
   ]
  },
  {
   "cell_type": "code",
   "execution_count": 15,
   "id": "7f78e111-6364-47fa-86e5-2382d888d8f6",
   "metadata": {},
   "outputs": [
    {
     "data": {
      "text/html": [
       "<div>\n",
       "<style scoped>\n",
       "    .dataframe tbody tr th:only-of-type {\n",
       "        vertical-align: middle;\n",
       "    }\n",
       "\n",
       "    .dataframe tbody tr th {\n",
       "        vertical-align: top;\n",
       "    }\n",
       "\n",
       "    .dataframe thead th {\n",
       "        text-align: right;\n",
       "    }\n",
       "</style>\n",
       "<table border=\"1\" class=\"dataframe\">\n",
       "  <thead>\n",
       "    <tr style=\"text-align: right;\">\n",
       "      <th></th>\n",
       "      <th>colors</th>\n",
       "    </tr>\n",
       "  </thead>\n",
       "  <tbody>\n",
       "    <tr>\n",
       "      <th>0</th>\n",
       "      <td>Blue</td>\n",
       "    </tr>\n",
       "    <tr>\n",
       "      <th>1</th>\n",
       "      <td>Green</td>\n",
       "    </tr>\n",
       "    <tr>\n",
       "      <th>2</th>\n",
       "      <td>Red</td>\n",
       "    </tr>\n",
       "    <tr>\n",
       "      <th>3</th>\n",
       "      <td>YelloW</td>\n",
       "    </tr>\n",
       "    <tr>\n",
       "      <th>4</th>\n",
       "      <td>White</td>\n",
       "    </tr>\n",
       "    <tr>\n",
       "      <th>5</th>\n",
       "      <td>Blue</td>\n",
       "    </tr>\n",
       "    <tr>\n",
       "      <th>6</th>\n",
       "      <td>Green</td>\n",
       "    </tr>\n",
       "    <tr>\n",
       "      <th>7</th>\n",
       "      <td>Red</td>\n",
       "    </tr>\n",
       "  </tbody>\n",
       "</table>\n",
       "</div>"
      ],
      "text/plain": [
       "   colors\n",
       "0    Blue\n",
       "1   Green\n",
       "2     Red\n",
       "3  YelloW\n",
       "4   White\n",
       "5    Blue\n",
       "6   Green\n",
       "7     Red"
      ]
     },
     "execution_count": 15,
     "metadata": {},
     "output_type": "execute_result"
    }
   ],
   "source": [
    "data = {'colors':[\"Blue\",\"Green\",\"Red\",\"YelloW\",\"White\",\"Blue\",\"Green\",\"Red\"]}\n",
    "df = pd.DataFrame(data)\n",
    "df"
   ]
  },
  {
   "cell_type": "code",
   "execution_count": 16,
   "id": "eddc1083-7b24-4826-b994-467f206ba86e",
   "metadata": {},
   "outputs": [
    {
     "data": {
      "text/plain": [
       "colors    5\n",
       "dtype: int64"
      ]
     },
     "execution_count": 16,
     "metadata": {},
     "output_type": "execute_result"
    }
   ],
   "source": [
    "df.nunique()"
   ]
  },
  {
   "cell_type": "code",
   "execution_count": 17,
   "id": "8d74bcc4-b684-4d81-8194-29144b841b92",
   "metadata": {},
   "outputs": [
    {
     "data": {
      "text/plain": [
       "array(['Blue', 'Green', 'Red', 'YelloW', 'White'], dtype=object)"
      ]
     },
     "execution_count": 17,
     "metadata": {},
     "output_type": "execute_result"
    }
   ],
   "source": [
    "df['colors'].unique()"
   ]
  },
  {
   "cell_type": "code",
   "execution_count": null,
   "id": "8ef1d5f9-04f7-4f22-bebf-8b0c77f6b041",
   "metadata": {},
   "outputs": [],
   "source": []
  }
 ],
 "metadata": {
  "kernelspec": {
   "display_name": "Python 3 (ipykernel)",
   "language": "python",
   "name": "python3"
  },
  "language_info": {
   "codemirror_mode": {
    "name": "ipython",
    "version": 3
   },
   "file_extension": ".py",
   "mimetype": "text/x-python",
   "name": "python",
   "nbconvert_exporter": "python",
   "pygments_lexer": "ipython3",
   "version": "3.12.2"
  }
 },
 "nbformat": 4,
 "nbformat_minor": 5
}
